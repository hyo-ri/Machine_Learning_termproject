{
 "cells": [
  {
   "cell_type": "markdown",
   "id": "a1958cc9",
   "metadata": {},
   "source": [
    "### 1. Loading all necessary libraries and packages"
   ]
  },
  {
   "cell_type": "code",
   "execution_count": 45,
   "id": "cd12f04e",
   "metadata": {},
   "outputs": [],
   "source": [
    "import os\n",
    "import numpy as np\n",
    "import pandas as pd\n",
    "import seaborn as sns\n",
    "import tensorflow as tf\n",
    "from sklearn.metrics import confusion_matrix\n",
    "import matplotlib.pyplot as plt\n",
    "from sklearn.model_selection import train_test_split\n",
    "from sklearn.metrics import classification_report\n",
    "from tensorflow.python import keras\n",
    "from tensorflow.python.keras.models import Sequential\n",
    "from keras.layers import Dense, Conv2D, Activation, MaxPool2D, Flatten, Dropout, BatchNormalization\n",
    "from keras.optimizers import RMSprop, Adam\n",
    "from tensorflow.keras.preprocessing.image import ImageDataGenerator\n",
    "import visualkeras\n",
    "from keras.utils import plot_model\n",
    "import math\n",
    "from keras.optimizers import RMSprop"
   ]
  },
  {
   "cell_type": "markdown",
   "id": "23911e61",
   "metadata": {},
   "source": [
    "##### Setting the model parameters"
   ]
  },
  {
   "cell_type": "code",
   "execution_count": 57,
   "id": "31641e6a",
   "metadata": {},
   "outputs": [],
   "source": [
    "Img_shape = 28\n",
    "Num_classes = 10\n",
    "test_size = 0.25\n",
    "random_state = 1234\n",
    "epochs = 50\n",
    "Batch_size = 128"
   ]
  },
  {
   "cell_type": "markdown",
   "id": "f323464a",
   "metadata": {},
   "source": [
    "### 2. Loading the Fashion MNIST Data"
   ]
  },
  {
   "cell_type": "code",
   "execution_count": 58,
   "id": "42fd00b0",
   "metadata": {},
   "outputs": [],
   "source": [
    "train_dataset = pd.read_csv(\"fashion-mnist_train.csv\")\n",
    "test_dataset = pd.read_csv(\"fashion-mnist_test.csv\")"
   ]
  },
  {
   "cell_type": "markdown",
   "id": "5d752823",
   "metadata": {},
   "source": [
    "##### Reading and Labeling the 10 Clothing categories"
   ]
  },
  {
   "cell_type": "code",
   "execution_count": 59,
   "id": "33e393b0",
   "metadata": {},
   "outputs": [],
   "source": [
    "class_names = ['T-shirt/top', 'Trouser', 'Pullover', 'Dress', 'Coat', 'Sandal', 'Shirt', 'Sneaker', 'Bag', 'Ankle boot']"
   ]
  },
  {
   "cell_type": "markdown",
   "id": "bac5a688",
   "metadata": {},
   "source": [
    "### 3. Pre-processing the data"
   ]
  },
  {
   "cell_type": "code",
   "execution_count": 60,
   "id": "4b526854",
   "metadata": {},
   "outputs": [],
   "source": [
    "def data_preprocessing(raw):\n",
    "    label = tf.keras.utils.to_categorical(raw.label, 10)\n",
    "    num_images = raw.shape[0]\n",
    "    x_as_array = raw.values[:, 1:]\n",
    "    x_shaped_array = x_as_array.reshape(num_images, 28, 28, 1)\n",
    "    image = x_shaped_array / 255\n",
    "    return image, label\n",
    "\n",
    "X, y = data_preprocessing(train_dataset)\n",
    "X_test, y_test = data_preprocessing(test_dataset)"
   ]
  },
  {
   "cell_type": "markdown",
   "id": "acf98320",
   "metadata": {},
   "source": [
    "##### Splitting the training data into training and validation set into a split ratio of 75-25 %"
   ]
  },
  {
   "cell_type": "code",
   "execution_count": 61,
   "id": "0d62a2f6",
   "metadata": {},
   "outputs": [],
   "source": [
    "X_train, X_val, y_train, y_val = train_test_split(X, y, test_size = test_size, random_state = random_state)"
   ]
  },
  {
   "cell_type": "markdown",
   "id": "2f7039a5",
   "metadata": {},
   "source": [
    "### 4. Train the model"
   ]
  },
  {
   "cell_type": "markdown",
   "id": "5f1ae6cc",
   "metadata": {},
   "source": [
    "##### Lets keep the CNN model simple initially"
   ]
  },
  {
   "cell_type": "code",
   "execution_count": 62,
   "id": "a04a5b2b",
   "metadata": {},
   "outputs": [],
   "source": [
    "# We are using sequential model which is linear stack of layers.\n",
    "# The Sequential model is initialized first and then using add method we add rest of the layers\n",
    "\n",
    "model = tf.keras.Sequential()\n",
    "\n",
    "# First layer, which has a 2D Convolutional layer with kernel size as 3x3 and Max pooling operation\n",
    "\n",
    "model.add(Conv2D(32, (3, 3), padding = 'same', input_shape = (28, 28, 1)))\n",
    "model.add(tf.keras.layers.MaxPooling2D(pool_size = (2, 2)))\n",
    "\n",
    "# Second layer, which has a 2D Convolutional layer with kernel size as 3x3 & ReLU activation and Max pooling operation\n",
    "\n",
    "model.add(Conv2D(64, (3, 3), padding = 'same', activation = tf.nn.relu))\n",
    "model.add(tf.keras.layers.MaxPooling2D(pool_size = (2, 2)))\n",
    "\n",
    "# Fully connected layer with ReLU activation function\n",
    "\n",
    "model.add(Flatten())\n",
    "model.add(Dense(128, activation = tf.nn.relu))\n",
    "\n",
    "# Output layer with softmax activation function\n",
    "\n",
    "model.add(Dense(10, activation = tf.nn.softmax))"
   ]
  },
  {
   "cell_type": "markdown",
   "id": "31d76196",
   "metadata": {},
   "source": [
    "##### Model's summary"
   ]
  },
  {
   "cell_type": "code",
   "execution_count": 63,
   "id": "a0a12135",
   "metadata": {},
   "outputs": [
    {
     "name": "stdout",
     "output_type": "stream",
     "text": [
      "Model: \"sequential_4\"\n",
      "_________________________________________________________________\n",
      " Layer (type)                Output Shape              Param #   \n",
      "=================================================================\n",
      " conv2d_12 (Conv2D)          (None, 28, 28, 32)        320       \n",
      "                                                                 \n",
      " max_pooling2d_11 (MaxPoolin  (None, 14, 14, 32)       0         \n",
      " g2D)                                                            \n",
      "                                                                 \n",
      " conv2d_13 (Conv2D)          (None, 14, 14, 64)        18496     \n",
      "                                                                 \n",
      " max_pooling2d_12 (MaxPoolin  (None, 7, 7, 64)         0         \n",
      " g2D)                                                            \n",
      "                                                                 \n",
      " flatten_5 (Flatten)         (None, 3136)              0         \n",
      "                                                                 \n",
      " dense_10 (Dense)            (None, 128)               401536    \n",
      "                                                                 \n",
      " dense_11 (Dense)            (None, 10)                1290      \n",
      "                                                                 \n",
      "=================================================================\n",
      "Total params: 421,642\n",
      "Trainable params: 421,642\n",
      "Non-trainable params: 0\n",
      "_________________________________________________________________\n"
     ]
    }
   ],
   "source": [
    "model.summary()"
   ]
  },
  {
   "cell_type": "markdown",
   "id": "9b20ae4c",
   "metadata": {},
   "source": [
    "##### 3D visualization of our CNN model architecture"
   ]
  },
  {
   "cell_type": "code",
   "execution_count": 64,
   "id": "a566f7c1",
   "metadata": {},
   "outputs": [
    {
     "data": {
      "image/png": "[encoded data removed]",
      "text/plain": [
       "<PIL.Image.Image image mode=RGBA size=536x150>"
      ]
     },
     "execution_count": 64,
     "metadata": {},
     "output_type": "execute_result"
    }
   ],
   "source": [
    "visualkeras.layered_view(model)"
   ]
  },
  {
   "cell_type": "markdown",
   "id": "da1f1ea3",
   "metadata": {},
   "source": [
    "##### A more elaborate and labelled way of visualization"
   ]
  },
  {
   "cell_type": "code",
   "execution_count": 65,
   "id": "372702a7",
   "metadata": {},
   "outputs": [
    {
     "data": {
      "image/png": "[encoded data removed]",
      "text/plain": [
       "<IPython.core.display.Image object>"
      ]
     },
     "execution_count": 65,
     "metadata": {},
     "output_type": "execute_result"
    }
   ],
   "source": [
    "plot_model(model, to_file = 'model.png')"
   ]
  },
  {
   "cell_type": "markdown",
   "id": "ff879217",
   "metadata": {},
   "source": [
    "##### Setting the parameters and compiling our model"
   ]
  },
  {
   "cell_type": "code",
   "execution_count": 66,
   "id": "8f5aa299",
   "metadata": {},
   "outputs": [],
   "source": [
    "# Optimizer specified here is adam, loss is categorical crossentrophy and metric is accuracy\n",
    "\n",
    "model.compile(optimizer = 'adam', loss = tf.keras.losses.categorical_crossentropy, metrics = 'accuracy')"
   ]
  },
  {
   "cell_type": "markdown",
   "id": "b651a2cb",
   "metadata": {},
   "source": [
    "##### Fit and Run the model with training and validation set of the data"
   ]
  },
  {
   "cell_type": "code",
   "execution_count": 67,
   "id": "db0ce475",
   "metadata": {
    "scrolled": false
   },
   "outputs": [
    {
     "name": "stdout",
     "output_type": "stream",
     "text": [
      "Epoch 1/50\n",
      "352/352 [==============================] - 50s 137ms/step - loss: 0.4942 - accuracy: 0.8254 - val_loss: 0.3445 - val_accuracy: 0.8785\n",
      "Epoch 2/50\n",
      "352/352 [==============================] - 47s 133ms/step - loss: 0.3216 - accuracy: 0.8849 - val_loss: 0.3607 - val_accuracy: 0.8641\n",
      "Epoch 3/50\n",
      "352/352 [==============================] - 51s 145ms/step - loss: 0.2781 - accuracy: 0.9010 - val_loss: 0.2954 - val_accuracy: 0.8933\n",
      "Epoch 4/50\n",
      "352/352 [==============================] - 47s 134ms/step - loss: 0.2496 - accuracy: 0.9100 - val_loss: 0.2679 - val_accuracy: 0.9048\n",
      "Epoch 5/50\n",
      "352/352 [==============================] - 45s 127ms/step - loss: 0.2273 - accuracy: 0.9182 - val_loss: 0.2582 - val_accuracy: 0.9081\n",
      "Epoch 6/50\n",
      "352/352 [==============================] - 51s 145ms/step - loss: 0.2036 - accuracy: 0.9254 - val_loss: 0.2474 - val_accuracy: 0.9129\n",
      "Epoch 7/50\n",
      "352/352 [==============================] - 50s 142ms/step - loss: 0.1871 - accuracy: 0.9322 - val_loss: 0.2630 - val_accuracy: 0.9063\n",
      "Epoch 8/50\n",
      "352/352 [==============================] - 43s 123ms/step - loss: 0.1709 - accuracy: 0.9385 - val_loss: 0.2552 - val_accuracy: 0.9115\n",
      "Epoch 9/50\n",
      "352/352 [==============================] - 47s 135ms/step - loss: 0.1528 - accuracy: 0.9438 - val_loss: 0.2538 - val_accuracy: 0.9132\n",
      "Epoch 10/50\n",
      "352/352 [==============================] - 44s 126ms/step - loss: 0.1425 - accuracy: 0.9479 - val_loss: 0.2886 - val_accuracy: 0.9040\n",
      "Epoch 11/50\n",
      "352/352 [==============================] - 45s 129ms/step - loss: 0.1247 - accuracy: 0.9546 - val_loss: 0.2668 - val_accuracy: 0.9153\n",
      "Epoch 12/50\n",
      "352/352 [==============================] - 44s 126ms/step - loss: 0.1117 - accuracy: 0.9594 - val_loss: 0.2714 - val_accuracy: 0.9085\n",
      "Epoch 13/50\n",
      "352/352 [==============================] - 44s 126ms/step - loss: 0.1010 - accuracy: 0.9637 - val_loss: 0.2708 - val_accuracy: 0.9175\n",
      "Epoch 14/50\n",
      "352/352 [==============================] - 44s 125ms/step - loss: 0.0871 - accuracy: 0.9682 - val_loss: 0.2879 - val_accuracy: 0.9123\n",
      "Epoch 15/50\n",
      "352/352 [==============================] - 45s 126ms/step - loss: 0.0809 - accuracy: 0.9709 - val_loss: 0.3037 - val_accuracy: 0.9135\n",
      "Epoch 16/50\n",
      "352/352 [==============================] - 45s 127ms/step - loss: 0.0700 - accuracy: 0.9748 - val_loss: 0.3003 - val_accuracy: 0.9164\n",
      "Epoch 17/50\n",
      "352/352 [==============================] - 45s 127ms/step - loss: 0.0586 - accuracy: 0.9797 - val_loss: 0.3084 - val_accuracy: 0.9171\n",
      "Epoch 18/50\n",
      "352/352 [==============================] - 45s 129ms/step - loss: 0.0533 - accuracy: 0.9816 - val_loss: 0.3439 - val_accuracy: 0.9149\n",
      "Epoch 19/50\n",
      "352/352 [==============================] - 44s 126ms/step - loss: 0.0457 - accuracy: 0.9837 - val_loss: 0.3528 - val_accuracy: 0.9114\n",
      "Epoch 20/50\n",
      "352/352 [==============================] - 56s 159ms/step - loss: 0.0355 - accuracy: 0.9882 - val_loss: 0.3902 - val_accuracy: 0.9119\n",
      "Epoch 21/50\n",
      "352/352 [==============================] - 56s 159ms/step - loss: 0.0399 - accuracy: 0.9869 - val_loss: 0.3918 - val_accuracy: 0.9093\n",
      "Epoch 22/50\n",
      "352/352 [==============================] - 54s 154ms/step - loss: 0.0323 - accuracy: 0.9894 - val_loss: 0.3940 - val_accuracy: 0.9169\n",
      "Epoch 23/50\n",
      "352/352 [==============================] - 65s 183ms/step - loss: 0.0250 - accuracy: 0.9918 - val_loss: 0.4342 - val_accuracy: 0.9124\n",
      "Epoch 24/50\n",
      "352/352 [==============================] - 49s 140ms/step - loss: 0.0249 - accuracy: 0.9913 - val_loss: 0.4249 - val_accuracy: 0.9109\n",
      "Epoch 25/50\n",
      "352/352 [==============================] - 45s 128ms/step - loss: 0.0208 - accuracy: 0.9931 - val_loss: 0.4347 - val_accuracy: 0.9145\n",
      "Epoch 26/50\n",
      "352/352 [==============================] - 45s 127ms/step - loss: 0.0224 - accuracy: 0.9927 - val_loss: 0.4725 - val_accuracy: 0.9098\n",
      "Epoch 27/50\n",
      "352/352 [==============================] - 45s 127ms/step - loss: 0.0239 - accuracy: 0.9918 - val_loss: 0.4878 - val_accuracy: 0.9106\n",
      "Epoch 28/50\n",
      "352/352 [==============================] - 47s 133ms/step - loss: 0.0247 - accuracy: 0.9918 - val_loss: 0.4789 - val_accuracy: 0.9107\n",
      "Epoch 29/50\n",
      "352/352 [==============================] - 48s 137ms/step - loss: 0.0164 - accuracy: 0.9946 - val_loss: 0.4830 - val_accuracy: 0.9157\n",
      "Epoch 30/50\n",
      "352/352 [==============================] - 62s 177ms/step - loss: 0.0192 - accuracy: 0.9932 - val_loss: 0.5126 - val_accuracy: 0.9158\n",
      "Epoch 31/50\n",
      "352/352 [==============================] - 59s 169ms/step - loss: 0.0150 - accuracy: 0.9953 - val_loss: 0.5055 - val_accuracy: 0.9159\n",
      "Epoch 32/50\n",
      "352/352 [==============================] - 46s 132ms/step - loss: 0.0216 - accuracy: 0.9926 - val_loss: 0.5888 - val_accuracy: 0.9128\n",
      "Epoch 33/50\n",
      "352/352 [==============================] - 50s 142ms/step - loss: 0.0107 - accuracy: 0.9965 - val_loss: 0.5460 - val_accuracy: 0.9128\n",
      "Epoch 34/50\n",
      "352/352 [==============================] - 47s 135ms/step - loss: 0.0094 - accuracy: 0.9968 - val_loss: 0.5580 - val_accuracy: 0.9193\n",
      "Epoch 35/50\n",
      "352/352 [==============================] - 51s 146ms/step - loss: 0.0198 - accuracy: 0.9930 - val_loss: 0.5170 - val_accuracy: 0.9131\n",
      "Epoch 36/50\n",
      "352/352 [==============================] - 52s 149ms/step - loss: 0.0168 - accuracy: 0.9944 - val_loss: 0.5362 - val_accuracy: 0.9144\n",
      "Epoch 37/50\n",
      "352/352 [==============================] - 46s 130ms/step - loss: 0.0114 - accuracy: 0.9961 - val_loss: 0.6012 - val_accuracy: 0.9157\n",
      "Epoch 38/50\n",
      "352/352 [==============================] - 46s 131ms/step - loss: 0.0150 - accuracy: 0.9946 - val_loss: 0.5601 - val_accuracy: 0.9174\n",
      "Epoch 39/50\n",
      "352/352 [==============================] - 45s 129ms/step - loss: 0.0087 - accuracy: 0.9973 - val_loss: 0.5784 - val_accuracy: 0.9167\n",
      "Epoch 40/50\n",
      "352/352 [==============================] - 46s 132ms/step - loss: 0.0087 - accuracy: 0.9970 - val_loss: 0.6042 - val_accuracy: 0.9193\n",
      "Epoch 41/50\n",
      "352/352 [==============================] - 46s 132ms/step - loss: 0.0100 - accuracy: 0.9971 - val_loss: 0.6208 - val_accuracy: 0.9144\n",
      "Epoch 42/50\n",
      "352/352 [==============================] - 46s 130ms/step - loss: 0.0180 - accuracy: 0.9942 - val_loss: 0.5924 - val_accuracy: 0.9116\n",
      "Epoch 43/50\n",
      "352/352 [==============================] - 46s 131ms/step - loss: 0.0186 - accuracy: 0.9936 - val_loss: 0.6009 - val_accuracy: 0.9177\n",
      "Epoch 44/50\n",
      "352/352 [==============================] - 46s 129ms/step - loss: 0.0055 - accuracy: 0.9985 - val_loss: 0.6310 - val_accuracy: 0.9121\n",
      "Epoch 45/50\n",
      "352/352 [==============================] - 45s 129ms/step - loss: 0.0110 - accuracy: 0.9963 - val_loss: 0.5951 - val_accuracy: 0.9161\n",
      "Epoch 46/50\n",
      "352/352 [==============================] - 45s 127ms/step - loss: 0.0205 - accuracy: 0.9926 - val_loss: 0.6115 - val_accuracy: 0.9101\n",
      "Epoch 47/50\n",
      "352/352 [==============================] - 45s 129ms/step - loss: 0.0088 - accuracy: 0.9971 - val_loss: 0.6331 - val_accuracy: 0.9135\n",
      "Epoch 48/50\n",
      "352/352 [==============================] - 46s 130ms/step - loss: 0.0021 - accuracy: 0.9996 - val_loss: 0.6398 - val_accuracy: 0.9185\n",
      "Epoch 49/50\n",
      "352/352 [==============================] - 45s 129ms/step - loss: 0.0071 - accuracy: 0.9975 - val_loss: 0.6286 - val_accuracy: 0.9163\n",
      "Epoch 50/50\n",
      "352/352 [==============================] - 47s 132ms/step - loss: 0.0216 - accuracy: 0.9922 - val_loss: 0.7198 - val_accuracy: 0.9068\n"
     ]
    }
   ],
   "source": [
    "train_model = model.fit(X_train, y_train, batch_size = Batch_size, epochs = epochs, verbose = 1, validation_data = (X_val, y_val))"
   ]
  },
  {
   "cell_type": "markdown",
   "id": "fdfcdddb",
   "metadata": {},
   "source": [
    "### 5. Evaluate the model"
   ]
  },
  {
   "cell_type": "code",
   "execution_count": 68,
   "id": "1e3aa3da",
   "metadata": {},
   "outputs": [
    {
     "name": "stdout",
     "output_type": "stream",
     "text": [
      "313/313 [==============================] - 4s 12ms/step - loss: 0.6742 - accuracy: 0.9138\n",
      "Test loss :  0.6742339134216309\n",
      "Test accuracy :  0.9138000011444092\n"
     ]
    }
   ],
   "source": [
    "score = model.evaluate(X_test, y_test, steps = math.ceil(10000/32))\n",
    "\n",
    "# checking the test loss and test accuracy\n",
    "\n",
    "print('Test loss : ', score[0])\n",
    "print('Test accuracy : ', score[1])"
   ]
  },
  {
   "cell_type": "markdown",
   "id": "578fe47a",
   "metadata": {},
   "source": [
    "### 6. Tuning the Model"
   ]
  },
  {
   "cell_type": "markdown",
   "id": "13f0a96b",
   "metadata": {},
   "source": [
    "##### Lets add Batch Normalization and Dropout layers ( To avoid overfitting ) to the model"
   ]
  },
  {
   "cell_type": "code",
   "execution_count": 69,
   "id": "61fdcaf9",
   "metadata": {},
   "outputs": [],
   "source": [
    "model = Sequential()\n",
    "\n",
    "model.add(Conv2D(32, 3, padding = 'same', activation = 'relu', kernel_initializer = 'he_normal', input_shape = (28, 28, 1)))\n",
    "model.add(tf.keras.layers.MaxPooling2D(pool_size = (2, 2)))\n",
    "\n",
    "model.add(Conv2D(64, 3, padding = 'same', activation = 'relu'))\n",
    "model.add(tf.keras.layers.MaxPooling2D(pool_size = (2, 2)))\n",
    "\n",
    "model.add(Dropout(0.3))\n",
    "model.add(BatchNormalization())\n",
    "model.add(Conv2D(128, 3, padding = 'same', activation = 'relu'))\n",
    "model.add(Conv2D(128, 3, padding = 'same', activation = 'relu'))\n",
    "model.add(tf.keras.layers.MaxPooling2D(pool_size = (2, 2)))\n",
    "\n",
    "model.add(Dropout(0.4))\n",
    "model.add(Flatten())\n",
    "model.add(BatchNormalization())\n",
    "model.add(Dense(512, activation = 'relu'))\n",
    "\n",
    "model.add(Dropout(0.25))\n",
    "model.add(Dense(10, activation = 'softmax'))"
   ]
  },
  {
   "cell_type": "code",
   "execution_count": 70,
   "id": "b510f343",
   "metadata": {
    "scrolled": true
   },
   "outputs": [
    {
     "ename": "AttributeError",
     "evalue": "The layer has never been called and thus has no defined output shape.",
     "output_type": "error",
     "traceback": [
      "\u001b[1;31m---------------------------------------------------------------------------\u001b[0m",
      "\u001b[1;31mAttributeError\u001b[0m                            Traceback (most recent call last)",
      "Input \u001b[1;32mIn [70]\u001b[0m, in \u001b[0;36m<cell line: 1>\u001b[1;34m()\u001b[0m\n\u001b[1;32m----> 1\u001b[0m \u001b[43mvisualkeras\u001b[49m\u001b[38;5;241;43m.\u001b[39;49m\u001b[43mlayered_view\u001b[49m\u001b[43m(\u001b[49m\u001b[43mmodel\u001b[49m\u001b[43m)\u001b[49m\n",
      "File \u001b[1;32m~\\AppData\\Local\\Programs\\Python\\Python310\\lib\\site-packages\\visualkeras\\layered.py:85\u001b[0m, in \u001b[0;36mlayered_view\u001b[1;34m(model, to_file, min_z, min_xy, max_z, max_xy, scale_z, scale_xy, type_ignore, index_ignore, color_map, one_dim_orientation, background_fill, draw_volume, padding, spacing, draw_funnel, shade_step, legend, font, font_color)\u001b[0m\n\u001b[0;32m     82\u001b[0m y \u001b[38;5;241m=\u001b[39m min_xy\n\u001b[0;32m     83\u001b[0m z \u001b[38;5;241m=\u001b[39m min_z\n\u001b[1;32m---> 85\u001b[0m \u001b[38;5;28;01mif\u001b[39;00m \u001b[38;5;28misinstance\u001b[39m(\u001b[43mlayer\u001b[49m\u001b[38;5;241;43m.\u001b[39;49m\u001b[43moutput_shape\u001b[49m, \u001b[38;5;28mtuple\u001b[39m):\n\u001b[0;32m     86\u001b[0m     shape \u001b[38;5;241m=\u001b[39m layer\u001b[38;5;241m.\u001b[39moutput_shape\n\u001b[0;32m     87\u001b[0m \u001b[38;5;28;01melif\u001b[39;00m \u001b[38;5;28misinstance\u001b[39m(layer\u001b[38;5;241m.\u001b[39moutput_shape, \u001b[38;5;28mlist\u001b[39m) \u001b[38;5;129;01mand\u001b[39;00m \u001b[38;5;28mlen\u001b[39m(\n\u001b[0;32m     88\u001b[0m         layer\u001b[38;5;241m.\u001b[39moutput_shape) \u001b[38;5;241m==\u001b[39m \u001b[38;5;241m1\u001b[39m:  \u001b[38;5;66;03m# drop dimension for non seq. models\u001b[39;00m\n",
      "File \u001b[1;32m~\\AppData\\Local\\Programs\\Python\\Python310\\lib\\site-packages\\tensorflow\\python\\keras\\engine\\base_layer.py:2167\u001b[0m, in \u001b[0;36mLayer.output_shape\u001b[1;34m(self)\u001b[0m\n\u001b[0;32m   2153\u001b[0m \u001b[38;5;124;03m\"\"\"Retrieves the output shape(s) of a layer.\u001b[39;00m\n\u001b[0;32m   2154\u001b[0m \n\u001b[0;32m   2155\u001b[0m \u001b[38;5;124;03mOnly applicable if the layer has one output,\u001b[39;00m\n\u001b[1;32m   (...)\u001b[0m\n\u001b[0;32m   2164\u001b[0m \u001b[38;5;124;03m    RuntimeError: if called in Eager mode.\u001b[39;00m\n\u001b[0;32m   2165\u001b[0m \u001b[38;5;124;03m\"\"\"\u001b[39;00m\n\u001b[0;32m   2166\u001b[0m \u001b[38;5;28;01mif\u001b[39;00m \u001b[38;5;129;01mnot\u001b[39;00m \u001b[38;5;28mself\u001b[39m\u001b[38;5;241m.\u001b[39m_inbound_nodes:\n\u001b[1;32m-> 2167\u001b[0m   \u001b[38;5;28;01mraise\u001b[39;00m \u001b[38;5;167;01mAttributeError\u001b[39;00m(\u001b[38;5;124m'\u001b[39m\u001b[38;5;124mThe layer has never been called \u001b[39m\u001b[38;5;124m'\u001b[39m\n\u001b[0;32m   2168\u001b[0m                        \u001b[38;5;124m'\u001b[39m\u001b[38;5;124mand thus has no defined output shape.\u001b[39m\u001b[38;5;124m'\u001b[39m)\n\u001b[0;32m   2169\u001b[0m all_output_shapes \u001b[38;5;241m=\u001b[39m \u001b[38;5;28mset\u001b[39m(\n\u001b[0;32m   2170\u001b[0m     [\u001b[38;5;28mstr\u001b[39m(node\u001b[38;5;241m.\u001b[39moutput_shapes) \u001b[38;5;28;01mfor\u001b[39;00m node \u001b[38;5;129;01min\u001b[39;00m \u001b[38;5;28mself\u001b[39m\u001b[38;5;241m.\u001b[39m_inbound_nodes])\n\u001b[0;32m   2171\u001b[0m \u001b[38;5;28;01mif\u001b[39;00m \u001b[38;5;28mlen\u001b[39m(all_output_shapes) \u001b[38;5;241m==\u001b[39m \u001b[38;5;241m1\u001b[39m:\n",
      "\u001b[1;31mAttributeError\u001b[0m: The layer has never been called and thus has no defined output shape."
     ]
    }
   ],
   "source": [
    "visualkeras.layered_view(model)"
   ]
  },
  {
   "cell_type": "code",
   "execution_count": 71,
   "id": "a1758526",
   "metadata": {},
   "outputs": [
    {
     "ename": "ValueError",
     "evalue": "This model has not yet been built. Build the model first by calling `build()` or by calling the model on a batch of data.",
     "output_type": "error",
     "traceback": [
      "\u001b[1;31m---------------------------------------------------------------------------\u001b[0m",
      "\u001b[1;31mValueError\u001b[0m                                Traceback (most recent call last)",
      "Input \u001b[1;32mIn [71]\u001b[0m, in \u001b[0;36m<cell line: 1>\u001b[1;34m()\u001b[0m\n\u001b[1;32m----> 1\u001b[0m \u001b[43mplot_model\u001b[49m\u001b[43m(\u001b[49m\u001b[43mmodel\u001b[49m\u001b[43m,\u001b[49m\u001b[43m \u001b[49m\u001b[43mto_file\u001b[49m\u001b[43m \u001b[49m\u001b[38;5;241;43m=\u001b[39;49m\u001b[43m \u001b[49m\u001b[38;5;124;43m'\u001b[39;49m\u001b[38;5;124;43mmodel.png\u001b[39;49m\u001b[38;5;124;43m'\u001b[39;49m\u001b[43m)\u001b[49m\n",
      "File \u001b[1;32m~\\AppData\\Local\\Programs\\Python\\Python310\\lib\\site-packages\\keras\\utils\\vis_utils.py:417\u001b[0m, in \u001b[0;36mplot_model\u001b[1;34m(model, to_file, show_shapes, show_dtype, show_layer_names, rankdir, expand_nested, dpi, layer_range, show_layer_activations)\u001b[0m\n\u001b[0;32m    368\u001b[0m \u001b[38;5;124;03m\"\"\"Converts a Keras model to dot format and save to a file.\u001b[39;00m\n\u001b[0;32m    369\u001b[0m \n\u001b[0;32m    370\u001b[0m \u001b[38;5;124;03mExample:\u001b[39;00m\n\u001b[1;32m   (...)\u001b[0m\n\u001b[0;32m    413\u001b[0m \u001b[38;5;124;03m  This enables in-line display of the model plots in notebooks.\u001b[39;00m\n\u001b[0;32m    414\u001b[0m \u001b[38;5;124;03m\"\"\"\u001b[39;00m\n\u001b[0;32m    416\u001b[0m \u001b[38;5;28;01mif\u001b[39;00m \u001b[38;5;129;01mnot\u001b[39;00m model\u001b[38;5;241m.\u001b[39mbuilt:\n\u001b[1;32m--> 417\u001b[0m   \u001b[38;5;28;01mraise\u001b[39;00m \u001b[38;5;167;01mValueError\u001b[39;00m(\u001b[38;5;124m'\u001b[39m\u001b[38;5;124mThis model has not yet been built. \u001b[39m\u001b[38;5;124m'\u001b[39m\n\u001b[0;32m    418\u001b[0m                    \u001b[38;5;124m'\u001b[39m\u001b[38;5;124mBuild the model first by calling `build()` or by calling \u001b[39m\u001b[38;5;124m'\u001b[39m\n\u001b[0;32m    419\u001b[0m                    \u001b[38;5;124m'\u001b[39m\u001b[38;5;124mthe model on a batch of data.\u001b[39m\u001b[38;5;124m'\u001b[39m)\n\u001b[0;32m    421\u001b[0m dot \u001b[38;5;241m=\u001b[39m model_to_dot(\n\u001b[0;32m    422\u001b[0m     model,\n\u001b[0;32m    423\u001b[0m     show_shapes\u001b[38;5;241m=\u001b[39mshow_shapes,\n\u001b[1;32m   (...)\u001b[0m\n\u001b[0;32m    429\u001b[0m     layer_range\u001b[38;5;241m=\u001b[39mlayer_range,\n\u001b[0;32m    430\u001b[0m     show_layer_activations\u001b[38;5;241m=\u001b[39mshow_layer_activations)\n\u001b[0;32m    431\u001b[0m to_file \u001b[38;5;241m=\u001b[39m io_utils\u001b[38;5;241m.\u001b[39mpath_to_string(to_file)\n",
      "\u001b[1;31mValueError\u001b[0m: This model has not yet been built. Build the model first by calling `build()` or by calling the model on a batch of data."
     ]
    }
   ],
   "source": [
    "plot_model(model, to_file = 'model.png')"
   ]
  },
  {
   "cell_type": "markdown",
   "id": "e3bf2537",
   "metadata": {},
   "source": [
    "##### Tweaking the learning rate in adam optimizer for better accuracy"
   ]
  },
  {
   "cell_type": "code",
   "execution_count": 74,
   "id": "4e36b516",
   "metadata": {},
   "outputs": [
    {
     "ename": "ValueError",
     "evalue": "Could not interpret optimizer identifier: <keras.optimizers.optimizer_v2.adam.Adam object at 0x0000022A1EB54FD0>",
     "output_type": "error",
     "traceback": [
      "\u001b[1;31m---------------------------------------------------------------------------\u001b[0m",
      "\u001b[1;31mValueError\u001b[0m                                Traceback (most recent call last)",
      "Input \u001b[1;32mIn [74]\u001b[0m, in \u001b[0;36m<cell line: 3>\u001b[1;34m()\u001b[0m\n\u001b[0;32m      1\u001b[0m optimizer \u001b[38;5;241m=\u001b[39m Adam(learning_rate \u001b[38;5;241m=\u001b[39m \u001b[38;5;241m0.001\u001b[39m, beta_1 \u001b[38;5;241m=\u001b[39m \u001b[38;5;241m0.9\u001b[39m, beta_2 \u001b[38;5;241m=\u001b[39m \u001b[38;5;241m0.999\u001b[39m, epsilon \u001b[38;5;241m=\u001b[39m \u001b[38;5;28;01mNone\u001b[39;00m, decay \u001b[38;5;241m=\u001b[39m \u001b[38;5;241m0.0\u001b[39m, amsgrad \u001b[38;5;241m=\u001b[39m \u001b[38;5;28;01mFalse\u001b[39;00m)\n\u001b[1;32m----> 3\u001b[0m \u001b[43mmodel\u001b[49m\u001b[38;5;241;43m.\u001b[39;49m\u001b[43mcompile\u001b[49m\u001b[43m(\u001b[49m\u001b[43moptimizer\u001b[49m\u001b[43m \u001b[49m\u001b[38;5;241;43m=\u001b[39;49m\u001b[43m \u001b[49m\u001b[43moptimizer\u001b[49m\u001b[43m,\u001b[49m\u001b[43m \u001b[49m\u001b[43mloss\u001b[49m\u001b[43m \u001b[49m\u001b[38;5;241;43m=\u001b[39;49m\u001b[43m \u001b[49m\u001b[43mkeras\u001b[49m\u001b[38;5;241;43m.\u001b[39;49m\u001b[43mlosses\u001b[49m\u001b[38;5;241;43m.\u001b[39;49m\u001b[43mcategorical_crossentropy\u001b[49m\u001b[43m,\u001b[49m\u001b[43m \u001b[49m\u001b[43mmetrics\u001b[49m\u001b[43m \u001b[49m\u001b[38;5;241;43m=\u001b[39;49m\u001b[43m \u001b[49m\u001b[43m[\u001b[49m\u001b[38;5;124;43m\"\u001b[39;49m\u001b[38;5;124;43maccuracy\u001b[39;49m\u001b[38;5;124;43m\"\u001b[39;49m\u001b[43m]\u001b[49m\u001b[43m)\u001b[49m\n",
      "File \u001b[1;32m~\\AppData\\Local\\Programs\\Python\\Python310\\lib\\site-packages\\tensorflow\\python\\keras\\engine\\training.py:570\u001b[0m, in \u001b[0;36mModel.compile\u001b[1;34m(self, optimizer, loss, metrics, loss_weights, weighted_metrics, run_eagerly, steps_per_execution, **kwargs)\u001b[0m\n\u001b[0;32m    567\u001b[0m \u001b[38;5;28mself\u001b[39m\u001b[38;5;241m.\u001b[39m_validate_compile(optimizer, metrics, \u001b[38;5;241m*\u001b[39m\u001b[38;5;241m*\u001b[39mkwargs)\n\u001b[0;32m    568\u001b[0m \u001b[38;5;28mself\u001b[39m\u001b[38;5;241m.\u001b[39m_run_eagerly \u001b[38;5;241m=\u001b[39m run_eagerly\n\u001b[1;32m--> 570\u001b[0m \u001b[38;5;28mself\u001b[39m\u001b[38;5;241m.\u001b[39moptimizer \u001b[38;5;241m=\u001b[39m \u001b[38;5;28;43mself\u001b[39;49m\u001b[38;5;241;43m.\u001b[39;49m\u001b[43m_get_optimizer\u001b[49m\u001b[43m(\u001b[49m\u001b[43moptimizer\u001b[49m\u001b[43m)\u001b[49m\n\u001b[0;32m    571\u001b[0m \u001b[38;5;28mself\u001b[39m\u001b[38;5;241m.\u001b[39mcompiled_loss \u001b[38;5;241m=\u001b[39m compile_utils\u001b[38;5;241m.\u001b[39mLossesContainer(\n\u001b[0;32m    572\u001b[0m     loss, loss_weights, output_names\u001b[38;5;241m=\u001b[39m\u001b[38;5;28mself\u001b[39m\u001b[38;5;241m.\u001b[39moutput_names)\n\u001b[0;32m    573\u001b[0m \u001b[38;5;28mself\u001b[39m\u001b[38;5;241m.\u001b[39mcompiled_metrics \u001b[38;5;241m=\u001b[39m compile_utils\u001b[38;5;241m.\u001b[39mMetricsContainer(\n\u001b[0;32m    574\u001b[0m     metrics, weighted_metrics, output_names\u001b[38;5;241m=\u001b[39m\u001b[38;5;28mself\u001b[39m\u001b[38;5;241m.\u001b[39moutput_names,\n\u001b[0;32m    575\u001b[0m     from_serialized\u001b[38;5;241m=\u001b[39mfrom_serialized)\n",
      "File \u001b[1;32m~\\AppData\\Local\\Programs\\Python\\Python310\\lib\\site-packages\\tensorflow\\python\\keras\\engine\\training.py:608\u001b[0m, in \u001b[0;36mModel._get_optimizer\u001b[1;34m(self, optimizer)\u001b[0m\n\u001b[0;32m    605\u001b[0m       opt \u001b[38;5;241m=\u001b[39m lso\u001b[38;5;241m.\u001b[39mLossScaleOptimizerV1(opt, loss_scale)\n\u001b[0;32m    606\u001b[0m   \u001b[38;5;28;01mreturn\u001b[39;00m opt\n\u001b[1;32m--> 608\u001b[0m \u001b[38;5;28;01mreturn\u001b[39;00m \u001b[43mnest\u001b[49m\u001b[38;5;241;43m.\u001b[39;49m\u001b[43mmap_structure\u001b[49m\u001b[43m(\u001b[49m\u001b[43m_get_single_optimizer\u001b[49m\u001b[43m,\u001b[49m\u001b[43m \u001b[49m\u001b[43moptimizer\u001b[49m\u001b[43m)\u001b[49m\n",
      "File \u001b[1;32m~\\AppData\\Local\\Programs\\Python\\Python310\\lib\\site-packages\\tensorflow\\python\\util\\nest.py:916\u001b[0m, in \u001b[0;36mmap_structure\u001b[1;34m(func, *structure, **kwargs)\u001b[0m\n\u001b[0;32m    912\u001b[0m flat_structure \u001b[38;5;241m=\u001b[39m (flatten(s, expand_composites) \u001b[38;5;28;01mfor\u001b[39;00m s \u001b[38;5;129;01min\u001b[39;00m structure)\n\u001b[0;32m    913\u001b[0m entries \u001b[38;5;241m=\u001b[39m \u001b[38;5;28mzip\u001b[39m(\u001b[38;5;241m*\u001b[39mflat_structure)\n\u001b[0;32m    915\u001b[0m \u001b[38;5;28;01mreturn\u001b[39;00m pack_sequence_as(\n\u001b[1;32m--> 916\u001b[0m     structure[\u001b[38;5;241m0\u001b[39m], [func(\u001b[38;5;241m*\u001b[39mx) \u001b[38;5;28;01mfor\u001b[39;00m x \u001b[38;5;129;01min\u001b[39;00m entries],\n\u001b[0;32m    917\u001b[0m     expand_composites\u001b[38;5;241m=\u001b[39mexpand_composites)\n",
      "File \u001b[1;32m~\\AppData\\Local\\Programs\\Python\\Python310\\lib\\site-packages\\tensorflow\\python\\util\\nest.py:916\u001b[0m, in \u001b[0;36m<listcomp>\u001b[1;34m(.0)\u001b[0m\n\u001b[0;32m    912\u001b[0m flat_structure \u001b[38;5;241m=\u001b[39m (flatten(s, expand_composites) \u001b[38;5;28;01mfor\u001b[39;00m s \u001b[38;5;129;01min\u001b[39;00m structure)\n\u001b[0;32m    913\u001b[0m entries \u001b[38;5;241m=\u001b[39m \u001b[38;5;28mzip\u001b[39m(\u001b[38;5;241m*\u001b[39mflat_structure)\n\u001b[0;32m    915\u001b[0m \u001b[38;5;28;01mreturn\u001b[39;00m pack_sequence_as(\n\u001b[1;32m--> 916\u001b[0m     structure[\u001b[38;5;241m0\u001b[39m], [\u001b[43mfunc\u001b[49m\u001b[43m(\u001b[49m\u001b[38;5;241;43m*\u001b[39;49m\u001b[43mx\u001b[49m\u001b[43m)\u001b[49m \u001b[38;5;28;01mfor\u001b[39;00m x \u001b[38;5;129;01min\u001b[39;00m entries],\n\u001b[0;32m    917\u001b[0m     expand_composites\u001b[38;5;241m=\u001b[39mexpand_composites)\n",
      "File \u001b[1;32m~\\AppData\\Local\\Programs\\Python\\Python310\\lib\\site-packages\\tensorflow\\python\\keras\\engine\\training.py:599\u001b[0m, in \u001b[0;36mModel._get_optimizer.<locals>._get_single_optimizer\u001b[1;34m(opt)\u001b[0m\n\u001b[0;32m    598\u001b[0m \u001b[38;5;28;01mdef\u001b[39;00m \u001b[38;5;21m_get_single_optimizer\u001b[39m(opt):\n\u001b[1;32m--> 599\u001b[0m   opt \u001b[38;5;241m=\u001b[39m \u001b[43moptimizers\u001b[49m\u001b[38;5;241;43m.\u001b[39;49m\u001b[43mget\u001b[49m\u001b[43m(\u001b[49m\u001b[43mopt\u001b[49m\u001b[43m)\u001b[49m\n\u001b[0;32m    600\u001b[0m   \u001b[38;5;28;01mif\u001b[39;00m (loss_scale \u001b[38;5;129;01mis\u001b[39;00m \u001b[38;5;129;01mnot\u001b[39;00m \u001b[38;5;28;01mNone\u001b[39;00m \u001b[38;5;129;01mand\u001b[39;00m\n\u001b[0;32m    601\u001b[0m       \u001b[38;5;129;01mnot\u001b[39;00m \u001b[38;5;28misinstance\u001b[39m(opt, lso\u001b[38;5;241m.\u001b[39mLossScaleOptimizer)):\n\u001b[0;32m    602\u001b[0m     \u001b[38;5;28;01mif\u001b[39;00m loss_scale \u001b[38;5;241m==\u001b[39m \u001b[38;5;124m'\u001b[39m\u001b[38;5;124mdynamic\u001b[39m\u001b[38;5;124m'\u001b[39m:\n",
      "File \u001b[1;32m~\\AppData\\Local\\Programs\\Python\\Python310\\lib\\site-packages\\tensorflow\\python\\keras\\optimizers.py:131\u001b[0m, in \u001b[0;36mget\u001b[1;34m(identifier)\u001b[0m\n\u001b[0;32m    129\u001b[0m   \u001b[38;5;28;01mreturn\u001b[39;00m deserialize(config)\n\u001b[0;32m    130\u001b[0m \u001b[38;5;28;01melse\u001b[39;00m:\n\u001b[1;32m--> 131\u001b[0m   \u001b[38;5;28;01mraise\u001b[39;00m \u001b[38;5;167;01mValueError\u001b[39;00m(\n\u001b[0;32m    132\u001b[0m       \u001b[38;5;124m'\u001b[39m\u001b[38;5;124mCould not interpret optimizer identifier: \u001b[39m\u001b[38;5;132;01m{}\u001b[39;00m\u001b[38;5;124m'\u001b[39m\u001b[38;5;241m.\u001b[39mformat(identifier))\n",
      "\u001b[1;31mValueError\u001b[0m: Could not interpret optimizer identifier: <keras.optimizers.optimizer_v2.adam.Adam object at 0x0000022A1EB54FD0>"
     ]
    }
   ],
   "source": [
    "optimizer = Adam(learning_rate = 0.001, beta_1 = 0.9, beta_2 = 0.999, epsilon = None, decay = 0.0, amsgrad = False)\n",
    "\n",
    "model.compile(optimizer = optimizer, loss = keras.losses.categorical_crossentropy, metrics = [\"accuracy\"])"
   ]
  },
  {
   "cell_type": "code",
   "execution_count": 75,
   "id": "56e214fb",
   "metadata": {},
   "outputs": [
    {
     "ename": "RuntimeError",
     "evalue": "You must compile your model before training/testing. Use `model.compile(optimizer, loss)`.",
     "output_type": "error",
     "traceback": [
      "\u001b[1;31m---------------------------------------------------------------------------\u001b[0m",
      "\u001b[1;31mRuntimeError\u001b[0m                              Traceback (most recent call last)",
      "Input \u001b[1;32mIn [75]\u001b[0m, in \u001b[0;36m<cell line: 1>\u001b[1;34m()\u001b[0m\n\u001b[1;32m----> 1\u001b[0m train_model \u001b[38;5;241m=\u001b[39m \u001b[43mmodel\u001b[49m\u001b[38;5;241;43m.\u001b[39;49m\u001b[43mfit\u001b[49m\u001b[43m(\u001b[49m\u001b[43mX_train\u001b[49m\u001b[43m,\u001b[49m\u001b[43m \u001b[49m\u001b[43my_train\u001b[49m\u001b[43m,\u001b[49m\u001b[43m \u001b[49m\u001b[43mbatch_size\u001b[49m\u001b[43m \u001b[49m\u001b[38;5;241;43m=\u001b[39;49m\u001b[43m \u001b[49m\u001b[43mBatch_size\u001b[49m\u001b[43m,\u001b[49m\u001b[43m \u001b[49m\u001b[43mepochs\u001b[49m\u001b[43m \u001b[49m\u001b[38;5;241;43m=\u001b[39;49m\u001b[43m \u001b[49m\u001b[43mepochs\u001b[49m\u001b[43m,\u001b[49m\u001b[43m \u001b[49m\u001b[43mverbose\u001b[49m\u001b[43m \u001b[49m\u001b[38;5;241;43m=\u001b[39;49m\u001b[43m \u001b[49m\u001b[38;5;241;43m1\u001b[39;49m\u001b[43m,\u001b[49m\u001b[43m \u001b[49m\u001b[43mvalidation_data\u001b[49m\u001b[43m \u001b[49m\u001b[38;5;241;43m=\u001b[39;49m\u001b[43m \u001b[49m\u001b[43m(\u001b[49m\u001b[43mX_val\u001b[49m\u001b[43m,\u001b[49m\u001b[43m \u001b[49m\u001b[43my_val\u001b[49m\u001b[43m)\u001b[49m\u001b[43m)\u001b[49m\n",
      "File \u001b[1;32m~\\AppData\\Local\\Programs\\Python\\Python310\\lib\\site-packages\\tensorflow\\python\\keras\\engine\\training.py:1111\u001b[0m, in \u001b[0;36mModel.fit\u001b[1;34m(self, x, y, batch_size, epochs, verbose, callbacks, validation_split, validation_data, shuffle, class_weight, sample_weight, initial_epoch, steps_per_epoch, validation_steps, validation_batch_size, validation_freq, max_queue_size, workers, use_multiprocessing)\u001b[0m\n\u001b[0;32m   1109\u001b[0m \u001b[38;5;66;03m# Legacy graph support is contained in `training_v1.Model`.\u001b[39;00m\n\u001b[0;32m   1110\u001b[0m version_utils\u001b[38;5;241m.\u001b[39mdisallow_legacy_graph(\u001b[38;5;124m'\u001b[39m\u001b[38;5;124mModel\u001b[39m\u001b[38;5;124m'\u001b[39m, \u001b[38;5;124m'\u001b[39m\u001b[38;5;124mfit\u001b[39m\u001b[38;5;124m'\u001b[39m)\n\u001b[1;32m-> 1111\u001b[0m \u001b[38;5;28;43mself\u001b[39;49m\u001b[38;5;241;43m.\u001b[39;49m\u001b[43m_assert_compile_was_called\u001b[49m\u001b[43m(\u001b[49m\u001b[43m)\u001b[49m\n\u001b[0;32m   1112\u001b[0m \u001b[38;5;28mself\u001b[39m\u001b[38;5;241m.\u001b[39m_check_call_args(\u001b[38;5;124m'\u001b[39m\u001b[38;5;124mfit\u001b[39m\u001b[38;5;124m'\u001b[39m)\n\u001b[0;32m   1113\u001b[0m _disallow_inside_tf_function(\u001b[38;5;124m'\u001b[39m\u001b[38;5;124mfit\u001b[39m\u001b[38;5;124m'\u001b[39m)\n",
      "File \u001b[1;32m~\\AppData\\Local\\Programs\\Python\\Python310\\lib\\site-packages\\tensorflow\\python\\keras\\engine\\training.py:2725\u001b[0m, in \u001b[0;36mModel._assert_compile_was_called\u001b[1;34m(self)\u001b[0m\n\u001b[0;32m   2719\u001b[0m \u001b[38;5;28;01mdef\u001b[39;00m \u001b[38;5;21m_assert_compile_was_called\u001b[39m(\u001b[38;5;28mself\u001b[39m):\n\u001b[0;32m   2720\u001b[0m   \u001b[38;5;66;03m# Checks whether `compile` has been called. If it has been called,\u001b[39;00m\n\u001b[0;32m   2721\u001b[0m   \u001b[38;5;66;03m# then the optimizer is set. This is different from whether the\u001b[39;00m\n\u001b[0;32m   2722\u001b[0m   \u001b[38;5;66;03m# model is compiled\u001b[39;00m\n\u001b[0;32m   2723\u001b[0m   \u001b[38;5;66;03m# (i.e. whether the model is built and its inputs/outputs are set).\u001b[39;00m\n\u001b[0;32m   2724\u001b[0m   \u001b[38;5;28;01mif\u001b[39;00m \u001b[38;5;129;01mnot\u001b[39;00m \u001b[38;5;28mself\u001b[39m\u001b[38;5;241m.\u001b[39m_is_compiled:\n\u001b[1;32m-> 2725\u001b[0m     \u001b[38;5;28;01mraise\u001b[39;00m \u001b[38;5;167;01mRuntimeError\u001b[39;00m(\u001b[38;5;124m'\u001b[39m\u001b[38;5;124mYou must compile your model before \u001b[39m\u001b[38;5;124m'\u001b[39m\n\u001b[0;32m   2726\u001b[0m                        \u001b[38;5;124m'\u001b[39m\u001b[38;5;124mtraining/testing. \u001b[39m\u001b[38;5;124m'\u001b[39m\n\u001b[0;32m   2727\u001b[0m                        \u001b[38;5;124m'\u001b[39m\u001b[38;5;124mUse `model.compile(optimizer, loss)`.\u001b[39m\u001b[38;5;124m'\u001b[39m)\n",
      "\u001b[1;31mRuntimeError\u001b[0m: You must compile your model before training/testing. Use `model.compile(optimizer, loss)`."
     ]
    }
   ],
   "source": [
    "train_model = model.fit(X_train, y_train, batch_size = Batch_size, epochs = epochs, verbose = 1, validation_data = (X_val, y_val))"
   ]
  },
  {
   "cell_type": "code",
   "execution_count": null,
   "id": "bcda2d84",
   "metadata": {},
   "outputs": [],
   "source": [
    "score = model.evaluate(X_test, y_test, steps = math.ceil(10000/32))\n",
    "\n",
    "print('Test loss : ', score[0])\n",
    "print('Test accuracy : ', score[1])"
   ]
  },
  {
   "cell_type": "markdown",
   "id": "d3a1720e",
   "metadata": {},
   "source": [
    "### 7. Visualizing the results"
   ]
  },
  {
   "cell_type": "markdown",
   "id": "0fee7d71",
   "metadata": {},
   "source": [
    "##### Plotting 16 random images with predicted and real class of clothing"
   ]
  },
  {
   "cell_type": "code",
   "execution_count": null,
   "id": "ef176ab0",
   "metadata": {},
   "outputs": [],
   "source": [
    "labels = {0 : \"T-shirt/top\", 1 : \"Trouser\", 2 : \"Pullover\", 3 : \"Dress\", 4 : \"Coat\", 5 : \"Sandal\", 6 : \"Shirt\", 7 : \"Sneaker\", 8 : \"Bag\", 9 : \"Ankle Boot\"}\n",
    "\n",
    "y_pred = model.predict(X_test)\n",
    "X_test__ = X_test.reshape(X_test.shape[0], 28, 28)\n",
    "\n",
    "fig, axis = plt.subplots(4, 4, figsize = (12, 14))\n",
    "\n",
    "for i, ax in enumerate(axis.flat):\n",
    "    ax.imshow(X_test__[i], cmap = 'binary')\n",
    "    ax.set(title = f\"Real Class is {labels[y_test[i].argmax()]}\\nPredict Class is {labels[y_pred[i].argmax()]}\");"
   ]
  },
  {
   "cell_type": "markdown",
   "id": "ed6e5835",
   "metadata": {},
   "source": [
    "##### Plotting the confusion matrix"
   ]
  },
  {
   "cell_type": "code",
   "execution_count": null,
   "id": "62db053d",
   "metadata": {},
   "outputs": [],
   "source": [
    "y_pred = model.predict(X_test)\n",
    "y_pred_classes = np.argmax(y_pred, axis = 1)\n",
    "y_true = np.argmax(y_test, axis = 1)\n",
    "confusion_mtx = confusion_matrix(y_true, y_pred_classes)\n",
    "\n",
    "f, ax = plt.subplots(figsize = (12, 12))\n",
    "sns.heatmap(confusion_mtx, annot = True, linewidths = 0.1, cmap = \"gist_yarg_r\", linecolor = \"white\", fmt = '.0f', ax = ax)\n",
    "plt.xlabel(\"Predicted Label\")\n",
    "plt.ylabel(\"True Label\")\n",
    "plt.title(\"Confusion Matrix\")\n",
    "plt.show()"
   ]
  },
  {
   "cell_type": "code",
   "execution_count": null,
   "id": "d0c53cec",
   "metadata": {},
   "outputs": [],
   "source": []
  },
  {
   "cell_type": "code",
   "execution_count": null,
   "id": "2bf1fe58",
   "metadata": {},
   "outputs": [],
   "source": []
  },
  {
   "cell_type": "code",
   "execution_count": null,
   "id": "46dfee24",
   "metadata": {},
   "outputs": [],
   "source": []
  },
  {
   "cell_type": "code",
   "execution_count": null,
   "id": "035406c8",
   "metadata": {},
   "outputs": [],
   "source": []
  },
  {
   "cell_type": "code",
   "execution_count": null,
   "id": "403bcc2a",
   "metadata": {},
   "outputs": [],
   "source": []
  }
 ],
 "metadata": {
  "kernelspec": {
   "display_name": "Python 3 (ipykernel)",
   "language": "python",
   "name": "python3"
  },
  "language_info": {
   "codemirror_mode": {
    "name": "ipython",
    "version": 3
   },
   "file_extension": ".py",
   "mimetype": "text/x-python",
   "name": "python",
   "nbconvert_exporter": "python",
   "pygments_lexer": "ipython3",
   "version": "3.10.3"
  }
 },
 "nbformat": 4,
 "nbformat_minor": 5
}
